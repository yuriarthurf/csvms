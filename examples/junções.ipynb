{
 "cells": [
  {
   "cell_type": "markdown",
   "metadata": {},
   "source": [
    "# Junções"
   ]
  },
  {
   "cell_type": "code",
   "execution_count": 1,
   "metadata": {},
   "outputs": [
    {
     "name": "stderr",
     "output_type": "stream",
     "text": [
      "INFO:CSVMS:version:0.1.5\n"
     ]
    },
    {
     "name": "stdout",
     "output_type": "stream",
     "text": [
      "   +------+------+\n",
      "   |chave |valor |\n",
      "   +------+------+\n",
      "   +------+------+\n",
      "\n",
      "   +---+----+-----+------+\n",
      "   |id |rel |desc |total |\n",
      "   +---+----+-----+------+\n",
      "   +---+----+-----+------+\n",
      "\n"
     ]
    }
   ],
   "source": [
    "from csvms.table import Table\n",
    "tb1 = Table(\"tab1\", columns={\"chave\": int,\"valor\": str})\n",
    "tb2 = Table(\"tab2\", columns={\"id\":int,\"rel\":int,\"desc\":str,\"total\":float})\n",
    "print(tb1)\n",
    "print(tb2)"
   ]
  },
  {
   "cell_type": "markdown",
   "metadata": {},
   "source": [
    "## Cross"
   ]
  },
  {
   "cell_type": "code",
   "execution_count": null,
   "metadata": {},
   "outputs": [],
   "source": [
    "cross_cols = dict()\n",
    "cross_cols.update({f\"tb2.{k}\":v for k, v in tb2.columns.items()})\n",
    "cross_cols.update({f\"tb1.{k}\":v for k, v in tb1.columns.items()})\n",
    "cross = Table(\"tmp.cross\", cross_cols, temp=True)\n",
    "\n",
    "for i2, t2 in enumerate(tb2):\n",
    "    for i1, t1 in enumerate(tb1):\n",
    "            cross.rows.append(t2 + t1)\n",
    "for idx in range(len(cross)):\n",
    "    if not cross[idx][\"tb1.chave\"] == cross[idx][\"tb2.rel\"]:\n",
    "        del cross[idx]\n",
    "print(cross)"
   ]
  },
  {
   "cell_type": "markdown",
   "metadata": {},
   "source": [
    "## Inner"
   ]
  },
  {
   "cell_type": "code",
   "execution_count": null,
   "metadata": {},
   "outputs": [],
   "source": [
    "inner_cols = dict()\n",
    "inner_cols.update({f\"tb2.{k}\":v for k, v in tb2.columns.items()})\n",
    "inner_cols.update({f\"tb1.{k}\":v for k, v in tb1.columns.items()})\n",
    "inner = Table(\"tmp.inner\", inner_cols, temp=True)\n",
    "\n",
    "for i2, t2 in enumerate(tb2):\n",
    "    for i1, t1 in enumerate(tb1):\n",
    "        if tb1[i1][\"chave\"] == tb2[i2][\"rel\"]:\n",
    "            inner.rows.append(t2 + t1)\n",
    "print(inner)"
   ]
  },
  {
   "cell_type": "markdown",
   "metadata": {},
   "source": [
    "## Left join"
   ]
  },
  {
   "cell_type": "code",
   "execution_count": null,
   "metadata": {},
   "outputs": [],
   "source": [
    "left_cols = dict()\n",
    "left_cols.update({f\"tb2.{k}\":v for k, v in tb2.columns.items()})\n",
    "left_cols.update({f\"tb1.{k}\":v for k, v in tb1.columns.items()})\n",
    "left = Table(\"tmp.left\", left_cols, temp=True)\n",
    "\n",
    "for t2 in tb2:\n",
    "    for t1 in tb1.where(\"chave\", f\"eq {t2[1]}\"):\n",
    "        left.rows.append(t2+t1)\n",
    "print(left)"
   ]
  },
  {
   "cell_type": "markdown",
   "metadata": {},
   "source": [
    "## Right join"
   ]
  },
  {
   "cell_type": "code",
   "execution_count": null,
   "metadata": {},
   "outputs": [],
   "source": [
    "rigth_cols = dict()\n",
    "rigth_cols.update({f\"tb2.{k}\":v for k, v in tb2.columns.items()})\n",
    "rigth_cols.update({f\"tb1.{k}\":v for k, v in tb1.columns.items()})\n",
    "rigth = Table(\"tmp.rigth\", rigth_cols, temp=True)\n",
    "\n",
    "for t1 in tb1:\n",
    "    for t2 in tb2.where(\"rel\", f\"eq {t1[0]}\"):\n",
    "        \n",
    "        rigth.rows.append(t2+t1)\n",
    "print(rigth)"
   ]
  },
  {
   "cell_type": "markdown",
   "metadata": {},
   "source": [
    "## Full join"
   ]
  },
  {
   "cell_type": "code",
   "execution_count": null,
   "metadata": {},
   "outputs": [],
   "source": [
    "full_cols = dict()\n",
    "full_cols.update({f\"tb2.{k}\":v for k, v in tb2.columns.items()})\n",
    "full_cols.update({f\"tb1.{k}\":v for k, v in tb1.columns.items()})\n",
    "full = Table(\"tmp.full\", full_cols, temp=True)\n",
    "\n",
    "for t2 in tb2:\n",
    "    for t1 in tb1.where(\"chave\", f\"eq {t2[1]}\"):\n",
    "        full.rows.append(t2+t1)\n",
    "for t1 in tb1:\n",
    "    for t2 in tb2.where(\"rel\", f\"eq {t1[0]}\"):\n",
    "        full.rows.append(t2+t1)\n",
    "# Distict rows\n",
    "full.rows = list(dict.fromkeys(full.rows))\n",
    "print(full)"
   ]
  },
  {
   "cell_type": "code",
   "execution_count": null,
   "metadata": {},
   "outputs": [],
   "source": []
  }
 ],
 "metadata": {
  "kernelspec": {
   "display_name": "Python 3.8.10 ('bootcamp-sql-fwlM5xIW-py3.8')",
   "language": "python",
   "name": "python3"
  },
  "language_info": {
   "codemirror_mode": {
    "name": "ipython",
    "version": 3
   },
   "file_extension": ".py",
   "mimetype": "text/x-python",
   "name": "python",
   "nbconvert_exporter": "python",
   "pygments_lexer": "ipython3",
   "version": "3.8.10"
  },
  "orig_nbformat": 4,
  "vscode": {
   "interpreter": {
    "hash": "5aafff79e7f5743dfed784e03f3314246c7b211abeb9bb5cf418ac1037a88f6d"
   }
  }
 },
 "nbformat": 4,
 "nbformat_minor": 2
}
