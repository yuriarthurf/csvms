{
 "cells": [
  {
   "cell_type": "markdown",
   "metadata": {},
   "source": [
    "# Motor de Consultas"
   ]
  },
  {
   "cell_type": "code",
   "execution_count": 1,
   "metadata": {},
   "outputs": [],
   "source": [
    "import csvms.engine"
   ]
  },
  {
   "cell_type": "markdown",
   "metadata": {},
   "source": [
    "A partir da última implementação.\n",
    "Mostrar todos os registros da tabela `lista_frutas`"
   ]
  },
  {
   "cell_type": "code",
   "execution_count": 2,
   "metadata": {
    "vscode": {
     "languageId": "sql"
    }
   },
   "outputs": [
    {
     "name": "stderr",
     "output_type": "stream",
     "text": [
      "INFO:SQL:TABLE: default.lista_frutas\n",
      "   +---------+---------+\n",
      "   |nm_fruta |tp_fruta |\n",
      "   +---------+---------+\n",
      "  0|   banana|     doce|\n",
      "  1|    limão|    azedo|\n",
      "  2|     maçã|     doce|\n",
      "   +---------+---------+\n",
      "\n"
     ]
    }
   ],
   "source": [
    "%%sql\n",
    "SELECT * FROM lista_frutas"
   ]
  },
  {
   "cell_type": "markdown",
   "metadata": {},
   "source": [
    "Criar duas novas tabelas chamadas `tipo_frutas` e `venda_frutas`"
   ]
  },
  {
   "cell_type": "markdown",
   "metadata": {},
   "source": [
    "Recuperar o valor unitário de cada fruta"
   ]
  },
  {
   "cell_type": "code",
   "execution_count": 3,
   "metadata": {
    "vscode": {
     "languageId": "sql"
    }
   },
   "outputs": [
    {
     "name": "stderr",
     "output_type": "stream",
     "text": [
      "INFO:SQL:TABLE: default.(((l×t)σ)π)\n",
      "   +------+------+\n",
      "   |fruta |valor |\n",
      "   +------+------+\n",
      "  0|banana|   1.5|\n",
      "  1| limão|   2.5|\n",
      "  2|  maçã|   1.5|\n",
      "   +------+------+\n",
      "\n"
     ]
    }
   ],
   "source": [
    "%%sql\n",
    "SELECT l.nm_fruta AS fruta\n",
    "     , t.vl_fruta AS valor\n",
    "  FROM lista_frutas l\n",
    "     , tipo_frutas t\n",
    " WHERE l.tp_fruta = t.tp_fruta"
   ]
  },
  {
   "cell_type": "markdown",
   "metadata": {},
   "source": [
    "Mostrar o tipo das frutas vendidas"
   ]
  },
  {
   "cell_type": "code",
   "execution_count": 4,
   "metadata": {
    "vscode": {
     "languageId": "sql"
    }
   },
   "outputs": [
    {
     "name": "stderr",
     "output_type": "stream",
     "text": [
      "INFO:SQL:TABLE: default.((v⋈l)π)\n",
      "   +------------+-----------+\n",
      "   |cod_venda   |tp_fruta   |\n",
      "   +------------+-----------+\n",
      "  0|           1|       doce|\n",
      "  1|           2|       doce|\n",
      "  2|           3|      azedo|\n",
      "  3|           4|       doce|\n",
      "  4|           5|      azedo|\n",
      "   +------------+-----------+\n",
      "\n"
     ]
    }
   ],
   "source": [
    "%%sql\n",
    "SELECT v.cod_venda\n",
    "     , l.tp_fruta\n",
    "  FROM venda_frutas v\n",
    "  INNER JOIN lista_frutas l ON v.nm_fruta = l.nm_fruta"
   ]
  },
  {
   "cell_type": "markdown",
   "metadata": {},
   "source": [
    "Mostrar o valor total de cada venda"
   ]
  },
  {
   "cell_type": "code",
   "execution_count": 5,
   "metadata": {
    "vscode": {
     "languageId": "sql"
    }
   },
   "outputs": [
    {
     "name": "stderr",
     "output_type": "stream",
     "text": [
      "INFO:SQL:TABLE: default.((((v⋈l)⋈t)Π)π)\n",
      "   +------------+-----------+------------+-----------+------+\n",
      "   |cod_venda   |nm_fruta   |qtd_venda   |vl_fruta   |total |\n",
      "   +------------+-----------+------------+-----------+------+\n",
      "  0|           1|     banana|          10|        1.5|  15.0|\n",
      "  1|           2|     banana|          12|        1.5|  18.0|\n",
      "  2|           3|      limão|          20|        2.5|  50.0|\n",
      "  3|           4|     banana|           8|        1.5|  12.0|\n",
      "  4|           5|      limão|           8|        2.5|  20.0|\n",
      "   +------------+-----------+------------+-----------+------+\n",
      "\n"
     ]
    }
   ],
   "source": [
    "%%sql\n",
    "SELECT v.cod_venda\n",
    "     , l.nm_fruta\n",
    "     , v.qtd_venda\n",
    "     , t.vl_fruta\n",
    "     , t.vl_fruta * v.qtd_venda as total\n",
    "  FROM venda_frutas v\n",
    "  INNER JOIN lista_frutas l ON v.nm_fruta = l.nm_fruta\n",
    "  INNER JOIN tipo_frutas t ON l.tp_fruta = t.tp_fruta\n"
   ]
  },
  {
   "cell_type": "markdown",
   "metadata": {},
   "source": [
    "Mostrar os tipos que não possuem frutas"
   ]
  },
  {
   "cell_type": "code",
   "execution_count": 6,
   "metadata": {
    "vscode": {
     "languageId": "sql"
    }
   },
   "outputs": [
    {
     "name": "stderr",
     "output_type": "stream",
     "text": [
      "INFO:SQL:TABLE: default.(((l⟖t)σ)π)\n",
      "   +-----------------+\n",
      "   |tipos sem frutas |\n",
      "   +-----------------+\n",
      "  0|           amargo|\n",
      "   +-----------------+\n",
      "\n"
     ]
    }
   ],
   "source": [
    "%%sql\n",
    "SELECT t.tp_fruta `tipos sem frutas`\n",
    "  FROM lista_frutas l\n",
    " RIGHT JOIN tipo_frutas t ON t.tp_fruta = l.tp_fruta\n",
    " WHERE l.tp_fruta is null"
   ]
  },
  {
   "cell_type": "markdown",
   "metadata": {},
   "source": [
    "Mostrar as frutas com vendas inferiores a 20"
   ]
  },
  {
   "cell_type": "code",
   "execution_count": 7,
   "metadata": {
    "vscode": {
     "languageId": "sql"
    }
   },
   "outputs": [
    {
     "name": "stderr",
     "output_type": "stream",
     "text": [
      "INFO:SQL:TABLE: default.(((f⟕c)σ)π)\n",
      "   +--------------------+\n",
      "   |Frutas não vendidas |\n",
      "   +--------------------+\n",
      "  0|              banana|\n",
      "  1|                maçã|\n",
      "   +--------------------+\n",
      "\n"
     ]
    }
   ],
   "source": [
    "%%sql\n",
    "SELECT DISTINCT f.nm_fruta AS \"Frutas não vendidas\"\n",
    "  FROM lista_frutas f\n",
    "  LEFT JOIN (\n",
    "SELECT v.nm_fruta\n",
    "     , p.vl_fruta * v.qtd_venda as total\n",
    "  FROM venda_frutas v\n",
    "  INNER JOIN lista_frutas l ON v.nm_fruta = l.nm_fruta\n",
    "  INNER JOIN tipo_frutas p ON l.tp_fruta = p.tp_fruta) c ON f.nm_fruta = c.nm_fruta\n",
    "  WHERE c.total < 20 \n",
    "     OR c.total IS NULL"
   ]
  }
 ],
 "metadata": {
  "kernelspec": {
   "display_name": "Python 3.8.10 ('csvms-l4jZKfPM-py3.8')",
   "language": "python",
   "name": "python3"
  },
  "language_info": {
   "codemirror_mode": {
    "name": "ipython",
    "version": 3
   },
   "file_extension": ".py",
   "mimetype": "text/x-python",
   "name": "python",
   "nbconvert_exporter": "python",
   "pygments_lexer": "ipython3",
   "version": "3.8.10"
  },
  "orig_nbformat": 4,
  "vscode": {
   "interpreter": {
    "hash": "1a84bf26869892adb843eae20f10e89c204f3e1c57aed8fbbbb6e912b0386733"
   }
  }
 },
 "nbformat": 4,
 "nbformat_minor": 2
}
