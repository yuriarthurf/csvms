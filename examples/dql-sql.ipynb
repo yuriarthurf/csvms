{
 "cells": [
  {
   "cell_type": "markdown",
   "metadata": {},
   "source": [
    "# Motor de Consultas"
   ]
  },
  {
   "cell_type": "code",
   "execution_count": null,
   "metadata": {},
   "outputs": [],
   "source": [
    "import csvms.engine"
   ]
  },
  {
   "cell_type": "markdown",
   "metadata": {},
   "source": [
    "A partir da última implementação.\n",
    "Mostrar todos os registros da tabela `lista_frutas`"
   ]
  },
  {
   "cell_type": "code",
   "execution_count": null,
   "metadata": {
    "vscode": {
     "languageId": "sql"
    }
   },
   "outputs": [],
   "source": [
    "%%sql\n",
    "SELECT * FROM lista_frutas"
   ]
  },
  {
   "cell_type": "markdown",
   "metadata": {},
   "source": [
    "Criar duas novas tabelas chamadas `tipo_frutas` e `venda_frutas`"
   ]
  },
  {
   "cell_type": "markdown",
   "metadata": {},
   "source": [
    "Recuperar o valor unitário de cada fruta"
   ]
  },
  {
   "cell_type": "code",
   "execution_count": null,
   "metadata": {
    "vscode": {
     "languageId": "sql"
    }
   },
   "outputs": [],
   "source": [
    "%%sql\n",
    "SELECT l.nm_fruta AS fruta\n",
    "     , t.vl_fruta AS valor\n",
    "  FROM lista_frutas l\n",
    "     , tipo_frutas t\n",
    " WHERE l.tp_fruta = t.tp_fruta"
   ]
  },
  {
   "cell_type": "markdown",
   "metadata": {},
   "source": [
    "Mostrar o tipo das frutas vendidas"
   ]
  },
  {
   "cell_type": "code",
   "execution_count": null,
   "metadata": {
    "vscode": {
     "languageId": "sql"
    }
   },
   "outputs": [],
   "source": [
    "%%sql\n",
    "SELECT v.cod_venda\n",
    "     , l.tp_fruta\n",
    "  FROM venda_frutas v\n",
    "  INNER JOIN lista_frutas l ON v.nm_fruta = l.nm_fruta"
   ]
  },
  {
   "cell_type": "markdown",
   "metadata": {},
   "source": [
    "Mostrar o valor total de cada venda"
   ]
  },
  {
   "cell_type": "code",
   "execution_count": null,
   "metadata": {
    "vscode": {
     "languageId": "sql"
    }
   },
   "outputs": [],
   "source": [
    "%%sql\n",
    "SELECT v.cod_venda\n",
    "     , l.nm_fruta\n",
    "     , v.qtd_venda\n",
    "     , t.vl_fruta\n",
    "     , t.vl_fruta * v.qtd_venda as total\n",
    "  FROM venda_frutas v\n",
    "  INNER JOIN lista_frutas l ON v.nm_fruta = l.nm_fruta\n",
    "  INNER JOIN tipo_frutas t ON l.tp_fruta = t.tp_fruta\n"
   ]
  },
  {
   "cell_type": "markdown",
   "metadata": {},
   "source": [
    "Mostrar os tipos que não possuem frutas"
   ]
  },
  {
   "cell_type": "code",
   "execution_count": null,
   "metadata": {
    "vscode": {
     "languageId": "sql"
    }
   },
   "outputs": [],
   "source": [
    "%%sql\n",
    "SELECT t.tp_fruta `tipos sem frutas`\n",
    "  FROM lista_frutas l\n",
    " RIGHT JOIN tipo_frutas t ON t.tp_fruta = l.tp_fruta\n",
    " WHERE l.tp_fruta is null"
   ]
  },
  {
   "cell_type": "markdown",
   "metadata": {},
   "source": [
    "Mostrar as frutas com vendas inferiores a 20"
   ]
  },
  {
   "cell_type": "code",
   "execution_count": null,
   "metadata": {
    "vscode": {
     "languageId": "sql"
    }
   },
   "outputs": [],
   "source": [
    "%%sql\n",
    "SELECT DISTINCT f.nm_fruta AS \"Frutas não vendidas\"\n",
    "  FROM lista_frutas f\n",
    "  LEFT JOIN (\n",
    "SELECT v.nm_fruta\n",
    "     , p.vl_fruta * v.qtd_venda as total\n",
    "  FROM venda_frutas v\n",
    "  INNER JOIN lista_frutas l ON v.nm_fruta = l.nm_fruta\n",
    "  INNER JOIN tipo_frutas p ON l.tp_fruta = p.tp_fruta) c ON f.nm_fruta = c.nm_fruta\n",
    "  WHERE c.total < 20 \n",
    "     OR c.total IS NULL"
   ]
  }
 ],
 "metadata": {
  "kernelspec": {
   "display_name": "Python 3.8.10 ('csvms-l4jZKfPM-py3.8')",
   "language": "python",
   "name": "python3"
  },
  "language_info": {
   "codemirror_mode": {
    "name": "ipython",
    "version": 3
   },
   "file_extension": ".py",
   "mimetype": "text/x-python",
   "name": "python",
   "nbconvert_exporter": "python",
   "pygments_lexer": "ipython3",
   "version": "3.8.10"
  },
  "orig_nbformat": 4,
  "vscode": {
   "interpreter": {
    "hash": "1a84bf26869892adb843eae20f10e89c204f3e1c57aed8fbbbb6e912b0386733"
   }
  }
 },
 "nbformat": 4,
 "nbformat_minor": 2
}
