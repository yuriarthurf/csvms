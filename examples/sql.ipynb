{
 "cells": [
  {
   "cell_type": "markdown",
   "metadata": {},
   "source": [
    "# SQL\n",
    "\n",
    "O SQL usa os termos **tabela**, **linha** e **coluna** para os termos do modelo relacional formal *relação*, *tupla* e *atributo* respectivamente."
   ]
  },
  {
   "cell_type": "code",
   "execution_count": 1,
   "metadata": {},
   "outputs": [
    {
     "name": "stderr",
     "output_type": "stream",
     "text": [
      "INFO:CSVMS:version:0.2.2\n"
     ]
    }
   ],
   "source": [
    "# Utilizaremos a lib csvms em nossos exemplos\n",
    "from csvms.table import Table\n",
    "#For re-run\n",
    "import shutil\n",
    "from csvms.schema import FILE_DIR\n",
    "shutil.rmtree(FILE_DIR, ignore_errors=True)"
   ]
  },
  {
   "cell_type": "markdown",
   "metadata": {},
   "source": [
    "## Criação\n",
    "\n",
    "O comando `CREATE TABLE` é usado para especificar uma nova relação, dando-lhe um **nome** e especificando seus **atributos**. Cada um dos atributos recebe um **nome** e um **tipo de dado** para especificar seu domínio de valores.\n",
    "\n",
    "> Como nosso banco de dados será escrito na linguagem [python](https://www.w3schools.com/python/default.asp), utilizaremos os seus [tipos primitivos](https://www.w3schools.com/python/python_datatypes.asp) como tipos de dados.\n",
    "\n",
    "Os tipos de dados básicos disponíveis para atributos costumam ser:\n",
    "\n",
    "+ Numéricos\n",
    "+ Cadeia de caracters\n",
    "+ Cadeia de bits\n",
    "+ Booleano\n",
    "+ Data\n",
    "+ Hora\n",
    "\n",
    "> E é já a partir deste ponto em que os vários dialetos começam a surgir 😟\n",
    "\n",
    "```sql\n",
    "CREATE TABLE dept (\n",
    "    codigo INTEGER ,\n",
    "    descricao TEXT);\n",
    "```"
   ]
  },
  {
   "cell_type": "code",
   "execution_count": 2,
   "metadata": {},
   "outputs": [
    {
     "name": "stderr",
     "output_type": "stream",
     "text": [
      "INFO:CSVMS:creating new data dictionary in data/catalog.json\n"
     ]
    },
    {
     "data": {
      "text/plain": [
       "True"
      ]
     },
     "execution_count": 2,
     "metadata": {},
     "output_type": "execute_result"
    }
   ],
   "source": [
    "Table(                   #Criação da tabela 'departamento'\n",
    "    name=\"dept\",         #Definição do nome da tabela\n",
    "    columns={            #Atributos da tabela com seus respectivos nomes e tipos\n",
    "        'codigo': int,   #Criaremos um atributo para armazenar \n",
    "        'descricao':str} #Departamento armazenará o código do departamento\n",
    ").save()                 #Salva as definições da tabela no catalogo de dados"
   ]
  },
  {
   "cell_type": "markdown",
   "metadata": {},
   "source": [
    "## Transação\n",
    "\n",
    "O inicio do trabalho `BEGIN` se dá com o carregamento da tabela do sistema de arquivos para a SGA (System Global Area).\n",
    "Tudo o que ocorrer com este objeto durante seu período em mória será considerado uma transação até que se confirme com os comandos de `COMMIT` ou `ROLLBACK`"
   ]
  },
  {
   "cell_type": "code",
   "execution_count": 3,
   "metadata": {},
   "outputs": [
    {
     "name": "stdout",
     "output_type": "stream",
     "text": [
      "   TABLE: default.dept\n",
      "   +-------+----------+\n",
      "   |codigo |descricao |\n",
      "   +-------+----------+\n",
      "   +-------+----------+\n",
      "\n"
     ]
    }
   ],
   "source": [
    "sga = dict(\n",
    "    dept=Table(\"dept\")\n",
    ")\n",
    "print(sga['dept'])"
   ]
  },
  {
   "cell_type": "markdown",
   "metadata": {},
   "source": [
    "## Inclusão\n",
    "\n",
    "Em sua forma mais simples, o comando `INSERT` é usado para acrescentar uma única *tupla* (linha) em uma *relação* (tabela).\n",
    "Precisamos especificar o nome da relação e uma lista de valores para a tupla. Os valores devem ser informados na mesma ordem em que os atributos correspondentes foram especificados no `CREATE TABLE`.\n",
    "\n",
    "```sql\n",
    "INSERT INTO dept VALUES (1, \"Compras\");\n",
    "INSERT INTO dept VALUES (2, \"Vendas\");\n",
    "INSERT INTO dept VALUES (3, \"Suporte\");\n",
    "```"
   ]
  },
  {
   "cell_type": "code",
   "execution_count": 4,
   "metadata": {},
   "outputs": [
    {
     "name": "stderr",
     "output_type": "stream",
     "text": [
      "INFO:CSVMS:Row inserted\n",
      "INFO:CSVMS:Row inserted\n",
      "INFO:CSVMS:Row inserted\n"
     ]
    },
    {
     "name": "stdout",
     "output_type": "stream",
     "text": [
      "   TABLE: default.dept\n",
      "   +-------+----------+\n",
      "   |codigo |descricao |\n",
      "   +-------+----------+\n",
      "  0|      1|   Compras|\n",
      "  1|      2|    Vendas|\n",
      "  2|      3|   Suporte|\n",
      "   +-------+----------+\n",
      "\n"
     ]
    }
   ],
   "source": [
    "\n",
    "sga['dept'].append(1, \"Compras\")\n",
    "sga['dept'].append(2, \"Vendas\")\n",
    "sga['dept'].append(3, \"Suporte\")\n",
    "print(sga['dept'])"
   ]
  },
  {
   "cell_type": "markdown",
   "metadata": {},
   "source": [
    "## Confirmação\n",
    "\n",
    "Com o comando de `COMMIT` confirmamos que todas as alterações desta transação deverão ser **salvas** em definitivo.\n",
    "\n",
    "```sql\n",
    "COMMIT\n",
    "```"
   ]
  },
  {
   "cell_type": "code",
   "execution_count": 5,
   "metadata": {},
   "outputs": [],
   "source": [
    "# Salva o estado de todas as tabelas da SGA\n",
    "for tbl in sga.values():\n",
    "    tbl.save()"
   ]
  },
  {
   "cell_type": "markdown",
   "metadata": {},
   "source": [
    "## Exclusão\n",
    "\n",
    "O comando `DELETE` remove *tuplas* de uma relação. Ele possui uma clausula *`WHERE`*, semelhante a utilzada em consultas, para selecionar a tuplas que serão excluídas.\n",
    "\n",
    "```sql\n",
    "DELETE FROM dept WHERE descricao = 'Vendas'\n",
    "```"
   ]
  },
  {
   "cell_type": "code",
   "execution_count": 6,
   "metadata": {},
   "outputs": [
    {
     "name": "stderr",
     "output_type": "stream",
     "text": [
      "INFO:CSVMS:Row deleted\n"
     ]
    },
    {
     "name": "stdout",
     "output_type": "stream",
     "text": [
      "   TABLE: default.dept\n",
      "   +-------+----------+\n",
      "   |codigo |descricao |\n",
      "   +-------+----------+\n",
      "  0|      1|   Compras|\n",
      "  1|      3|   Suporte|\n",
      "   +-------+----------+\n",
      "\n"
     ]
    }
   ],
   "source": [
    "# Procura em toda a tabela por linhas cuja descrição seja \"Vendas\"\n",
    "for idx in range(len(sga['dept'])):\n",
    "    if sga['dept'][idx][\"descricao\"]==\"Vendas\":\n",
    "        del sga['dept'][idx]\n",
    "print(sga['dept'])"
   ]
  },
  {
   "cell_type": "markdown",
   "metadata": {},
   "source": [
    "## Atualização\n",
    "\n",
    "O comando `UPDATE` é utilizado para modificar valores de atributos de uma ou mais *tuplas* selecionadas. Assim como no comando `DELETE`, é possível adicionar uma clausula `WHERE` no comando para informar o critério de seleção das linhas que serão afetadas.\n",
    "\n",
    "```sql\n",
    "UPDATE dept \n",
    "   SET descricao = 'Financeiro'\n",
    " WHERE codigo = 3\n",
    "```"
   ]
  },
  {
   "cell_type": "code",
   "execution_count": 7,
   "metadata": {},
   "outputs": [
    {
     "name": "stderr",
     "output_type": "stream",
     "text": [
      "INFO:CSVMS:Row updated\n"
     ]
    },
    {
     "name": "stdout",
     "output_type": "stream",
     "text": [
      "   TABLE: default.dept\n",
      "   +-------+----------+\n",
      "   |codigo |descricao |\n",
      "   +-------+----------+\n",
      "  0|      1|   Compras|\n",
      "  1|      3|Financeiro|\n",
      "   +-------+----------+\n",
      "\n"
     ]
    }
   ],
   "source": [
    "for idx in range(len(sga['dept'])):\n",
    "    if sga['dept'][idx][\"codigo\"]==3:\n",
    "        row = sga['dept'][idx]\n",
    "        row[\"descricao\"]='Financeiro'\n",
    "        sga['dept'][idx] = tuple(row.values())\n",
    "print(sga['dept'])"
   ]
  },
  {
   "cell_type": "markdown",
   "metadata": {},
   "source": [
    "## Descarte\n",
    "\n",
    "Com o comando de `ROLLBACK` descartamos todas as alterações desta transação, voltando assim ao estado em que os dados se encontravam desde a ultima operação salva. O comando de `ROLLBACK` finalizará um trabalho e iniciará outro.\n",
    "\n",
    "```sql\n",
    "ROLLBACK\n",
    "```"
   ]
  },
  {
   "cell_type": "code",
   "execution_count": 8,
   "metadata": {},
   "outputs": [
    {
     "name": "stdout",
     "output_type": "stream",
     "text": [
      "   TABLE: default.dept\n",
      "   +-------+----------+\n",
      "   |codigo |descricao |\n",
      "   +-------+----------+\n",
      "  0|      1|   Compras|\n",
      "  1|      2|    Vendas|\n",
      "  2|      3|   Suporte|\n",
      "   +-------+----------+\n",
      "\n"
     ]
    }
   ],
   "source": [
    "# Recarrega todas as tabelas da SGA\n",
    "for tbl in sga:\n",
    "    sga[tbl] = Table(tbl)\n",
    "print(sga['dept'])"
   ]
  },
  {
   "cell_type": "markdown",
   "metadata": {},
   "source": [
    "## Alteração\n",
    "\n",
    "O comando `ALTER TABLE` serve para alterar os atributos definidos para a tabela durante o processo de criação `CREATE TABLE`. Seus principais operadores servem para adição (`ADD`), modificação (`MODIFY`) tipo de dado, renomear (`RENAME`) um atributo ou ainda a remoção (`DROP`) de atributos existentes.\n",
    "\n",
    "```sql\n",
    "-- Adiciona uma nova coluna do tipo inteiro chamada budget\n",
    "ALTER TABLE dept ADD (budget INTEGER)\n",
    "```\n",
    "```sql\n",
    "-- Renomear a coluna para o nome em português e alterar seu tipo para ponto flutuante \n",
    "ALTER TABLE dept MODIFY (budget INTEGER) TO (orcamento FLOAT);\n",
    "```\n",
    "```sql\n",
    "-- Remove a coluna 'descricao' da tabela\n",
    "ALTER TABLE dept DROP descricao;\n",
    "```\n",
    "\n",
    "> Este sistema não prevê *concorrencia*, por isso podemos trabalhar sobre os objetos da SGA"
   ]
  },
  {
   "cell_type": "code",
   "execution_count": 9,
   "metadata": {},
   "outputs": [
    {
     "name": "stdout",
     "output_type": "stream",
     "text": [
      "   TABLE: default.dept\n",
      "   +-------+----------+-------+\n",
      "   |codigo |descricao |budget |\n",
      "   +-------+----------+-------+\n",
      "  0|      1|   Compras|      0|\n",
      "  1|      2|    Vendas|      0|\n",
      "  2|      3|   Suporte|      0|\n",
      "   +-------+----------+-------+\n",
      "\n"
     ]
    }
   ],
   "source": [
    "sga['dept'].alter('ADD',{'budget':int}).save()\n",
    "print(sga['dept'])"
   ]
  },
  {
   "cell_type": "code",
   "execution_count": 10,
   "metadata": {},
   "outputs": [
    {
     "name": "stdout",
     "output_type": "stream",
     "text": [
      "   TABLE: default.dept\n",
      "   +-------+----------+----------+\n",
      "   |codigo |descricao |orcamento |\n",
      "   +-------+----------+----------+\n",
      "  0|      1|   Compras|       0.0|\n",
      "  1|      2|    Vendas|       0.0|\n",
      "  2|      3|   Suporte|       0.0|\n",
      "   +-------+----------+----------+\n",
      "\n"
     ]
    }
   ],
   "source": [
    "sga['dept'].alter('MODIFY',{'budget':int},{'orcamento':float}).save()\n",
    "print(sga['dept'])"
   ]
  },
  {
   "cell_type": "code",
   "execution_count": 11,
   "metadata": {},
   "outputs": [
    {
     "name": "stdout",
     "output_type": "stream",
     "text": [
      "   TABLE: default.dept\n",
      "   +-------+----------+\n",
      "   |codigo |orcamento |\n",
      "   +-------+----------+\n",
      "  0|      1|       0.0|\n",
      "  1|      2|       0.0|\n",
      "  2|      3|       0.0|\n",
      "   +-------+----------+\n",
      "\n"
     ]
    }
   ],
   "source": [
    "sga['dept'].alter('DROP',{'descricao':str}).save()\n",
    "print(sga['dept'])"
   ]
  },
  {
   "cell_type": "markdown",
   "metadata": {},
   "source": [
    "## Eliminação\n",
    "\n",
    "Como o nome diz, o comando `DROP TABLE` eliminará o objeto do sistema. Ou seja, tanto o que está em memória quanto no sistema de arquivos e catalogo de dados.\n",
    "\n",
    "```sql\n",
    "DROP TABLE dept\n",
    "```"
   ]
  },
  {
   "cell_type": "code",
   "execution_count": 12,
   "metadata": {},
   "outputs": [],
   "source": [
    "sga['dept'].drop()\n",
    "del sga['dept']"
   ]
  },
  {
   "cell_type": "markdown",
   "metadata": {},
   "source": []
  }
 ],
 "metadata": {
  "kernelspec": {
   "display_name": "Python 3.8.10 ('csvms-l4jZKfPM-py3.8')",
   "language": "python",
   "name": "python3"
  },
  "language_info": {
   "codemirror_mode": {
    "name": "ipython",
    "version": 3
   },
   "file_extension": ".py",
   "mimetype": "text/x-python",
   "name": "python",
   "nbconvert_exporter": "python",
   "pygments_lexer": "ipython3",
   "version": "3.8.10"
  },
  "orig_nbformat": 4,
  "vscode": {
   "interpreter": {
    "hash": "1a84bf26869892adb843eae20f10e89c204f3e1c57aed8fbbbb6e912b0386733"
   }
  }
 },
 "nbformat": 4,
 "nbformat_minor": 2
}
