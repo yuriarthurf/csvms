{
 "cells": [
  {
   "cell_type": "code",
   "execution_count": 1,
   "metadata": {},
   "outputs": [
    {
     "name": "stderr",
     "output_type": "stream",
     "text": [
      "INFO:csvms:version:0.2.4\n"
     ]
    }
   ],
   "source": [
    "import csvms.engine"
   ]
  },
  {
   "cell_type": "code",
   "execution_count": 2,
   "metadata": {
    "vscode": {
     "languageId": "sql"
    }
   },
   "outputs": [
    {
     "name": "stderr",
     "output_type": "stream",
     "text": [
      "INFO:SQL:True\n"
     ]
    }
   ],
   "source": [
    "%%sql\n",
    "CREATE TABLE lista_frutas (\n",
    "    nm_fruta TEXT ,\n",
    "    tp_fruta TEXT )\n"
   ]
  },
  {
   "cell_type": "code",
   "execution_count": 3,
   "metadata": {
    "vscode": {
     "languageId": "sql"
    }
   },
   "outputs": [
    {
     "name": "stderr",
     "output_type": "stream",
     "text": [
      "INFO:csvms:Row inserted\n",
      "INFO:SQL:True\n",
      "INFO:csvms:Row inserted\n",
      "INFO:SQL:True\n",
      "INFO:csvms:Row inserted\n",
      "INFO:SQL:True\n"
     ]
    }
   ],
   "source": [
    "%%sql\n",
    "INSERT INTO lista_frutas VALUES ('banana','doce');\n",
    "INSERT INTO lista_frutas VALUES ('limão','azedo');\n",
    "INSERT INTO lista_frutas VALUES ('maçã','doce');"
   ]
  },
  {
   "cell_type": "code",
   "execution_count": 4,
   "metadata": {
    "vscode": {
     "languageId": "sql"
    }
   },
   "outputs": [
    {
     "name": "stderr",
     "output_type": "stream",
     "text": [
      "INFO:SQL:True\n",
      "INFO:SQL:TABLE: default.lista_frutas\n",
      "   +---------+---------+\n",
      "   |nm_fruta |tp_fruta |\n",
      "   +---------+---------+\n",
      "  0|   banana|     doce|\n",
      "  1|    limão|    azedo|\n",
      "  2|     maçã|     doce|\n",
      "   +---------+---------+\n",
      "\n"
     ]
    }
   ],
   "source": [
    "%%sql\n",
    "COMMIT;\n",
    " select * from lista_frutas;"
   ]
  },
  {
   "cell_type": "code",
   "execution_count": 5,
   "metadata": {
    "vscode": {
     "languageId": "sql"
    }
   },
   "outputs": [
    {
     "name": "stderr",
     "output_type": "stream",
     "text": [
      "INFO:csvms:Row updated\n",
      "INFO:csvms:Row updated\n",
      "INFO:SQL:True\n",
      "INFO:SQL:TABLE: default.lista_frutas\n",
      "   +---------+---------+\n",
      "   |nm_fruta |tp_fruta |\n",
      "   +---------+---------+\n",
      "  0|   banana|   amargo|\n",
      "  1|    limão|    azedo|\n",
      "  2|     maçã|   amargo|\n",
      "   +---------+---------+\n",
      "\n"
     ]
    }
   ],
   "source": [
    "%%sql\n",
    "UPDATE lista_frutas \n",
    "   SET tp_fruta = 'amargo'\n",
    " WHERE tp_fruta = 'doce';\n",
    " select * from lista_frutas;\n"
   ]
  },
  {
   "cell_type": "code",
   "execution_count": 6,
   "metadata": {
    "vscode": {
     "languageId": "sql"
    }
   },
   "outputs": [
    {
     "name": "stderr",
     "output_type": "stream",
     "text": [
      "INFO:SQL:True\n",
      "INFO:SQL:TABLE: default.lista_frutas\n",
      "   +---------+---------+\n",
      "   |nm_fruta |tp_fruta |\n",
      "   +---------+---------+\n",
      "  0|   banana|     doce|\n",
      "  1|    limão|    azedo|\n",
      "  2|     maçã|     doce|\n",
      "   +---------+---------+\n",
      "\n"
     ]
    }
   ],
   "source": [
    "%%sql\n",
    "ROLLBACK;\n",
    "select * from lista_frutas;"
   ]
  },
  {
   "cell_type": "code",
   "execution_count": 7,
   "metadata": {
    "vscode": {
     "languageId": "sql"
    }
   },
   "outputs": [
    {
     "name": "stderr",
     "output_type": "stream",
     "text": [
      "INFO:SQL:True\n"
     ]
    }
   ],
   "source": [
    "%%sql\n",
    "drop table lista_frutas;"
   ]
  },
  {
   "cell_type": "code",
   "execution_count": 8,
   "metadata": {
    "vscode": {
     "languageId": "sql"
    }
   },
   "outputs": [
    {
     "name": "stderr",
     "output_type": "stream",
     "text": [
      "ERROR:SQL:Table not found\n"
     ]
    }
   ],
   "source": [
    "%%sql\n",
    "select * from lista_frutas"
   ]
  }
 ],
 "metadata": {
  "kernelspec": {
   "display_name": "Python 3.8.10 ('csvms-l4jZKfPM-py3.8')",
   "language": "python",
   "name": "python3"
  },
  "language_info": {
   "codemirror_mode": {
    "name": "ipython",
    "version": 3
   },
   "file_extension": ".py",
   "mimetype": "text/x-python",
   "name": "python",
   "nbconvert_exporter": "python",
   "pygments_lexer": "ipython3",
   "version": "3.8.10"
  },
  "orig_nbformat": 4,
  "vscode": {
   "interpreter": {
    "hash": "1a84bf26869892adb843eae20f10e89c204f3e1c57aed8fbbbb6e912b0386733"
   }
  }
 },
 "nbformat": 4,
 "nbformat_minor": 2
}
