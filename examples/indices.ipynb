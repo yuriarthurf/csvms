{
 "cells": [
  {
   "cell_type": "markdown",
   "metadata": {},
   "source": [
    "# Índices\n",
    "\n",
    "São estruturas de acesso auxiliares utilizadas para agilizar a recuperação de registros em resposta a certas condições de pesquisa. Eles permitem o acesso eficiente aos registros com base nos campos de indexação."
   ]
  },
  {
   "cell_type": "code",
   "execution_count": null,
   "metadata": {},
   "outputs": [],
   "source": [
    "import random\n",
    "from csvms.table import Table, Index"
   ]
  },
  {
   "cell_type": "code",
   "execution_count": null,
   "metadata": {},
   "outputs": [],
   "source": [
    "val='abcdefghijklmnoqrstuvxyz'\n",
    "dat=list()\n",
    "for _ in range(0,20):\n",
    "    dat.append(tuple([\n",
    "        random.randint(0,100000),\n",
    "        \"\".join([random.choice(val) for i in range(0,random.randint(1,20))]),\n",
    "        float(f\"{random.randint(0,10)}.{random.randint(0,100000)}\")])\n",
    "    )\n",
    "tb1 = Table(\n",
    "    name=\"tb1\",\n",
    "    columns={\n",
    "        \"chave\":int,\n",
    "        \"desc\":str,\n",
    "        \"valor\":float},\n",
    "    data=dat)\n",
    "print(tb1)"
   ]
  },
  {
   "cell_type": "code",
   "execution_count": null,
   "metadata": {},
   "outputs": [],
   "source": [
    "idx_chave = Index(\n",
    "    name='idx_chave',\n",
    "    table=tb1,\n",
    "    attribute='chave')\n",
    "idx_chave.tree.show()"
   ]
  },
  {
   "cell_type": "code",
   "execution_count": null,
   "metadata": {},
   "outputs": [],
   "source": [
    "print(idx_chave.search(7818))"
   ]
  },
  {
   "cell_type": "code",
   "execution_count": null,
   "metadata": {},
   "outputs": [],
   "source": [
    "idx_desc = Index(\n",
    "    name='idx_desc',\n",
    "    table=tb1,\n",
    "    attribute='desc')\n",
    "idx_desc.tree.show()"
   ]
  },
  {
   "cell_type": "code",
   "execution_count": null,
   "metadata": {},
   "outputs": [],
   "source": [
    "print(idx_desc.search('isrtolmlrueaskxgzv'))"
   ]
  },
  {
   "cell_type": "code",
   "execution_count": null,
   "metadata": {},
   "outputs": [],
   "source": [
    "idx_valor = Index(\n",
    "    name='idx_valor',\n",
    "    table=tb1,\n",
    "    attribute='valor')\n",
    "idx_valor.tree.show()"
   ]
  },
  {
   "cell_type": "code",
   "execution_count": null,
   "metadata": {},
   "outputs": [],
   "source": [
    "print(idx_valor.search(6.26447))"
   ]
  }
 ],
 "metadata": {
  "kernelspec": {
   "display_name": "Python 3.8.10 ('csvms-l4jZKfPM-py3.8')",
   "language": "python",
   "name": "python3"
  },
  "language_info": {
   "codemirror_mode": {
    "name": "ipython",
    "version": 3
   },
   "file_extension": ".py",
   "mimetype": "text/x-python",
   "name": "python",
   "nbconvert_exporter": "python",
   "pygments_lexer": "ipython3",
   "version": "3.8.10"
  },
  "orig_nbformat": 4,
  "vscode": {
   "interpreter": {
    "hash": "1a84bf26869892adb843eae20f10e89c204f3e1c57aed8fbbbb6e912b0386733"
   }
  }
 },
 "nbformat": 4,
 "nbformat_minor": 2
}
